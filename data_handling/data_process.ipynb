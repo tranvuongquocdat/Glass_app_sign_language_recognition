{
 "cells": [
  {
   "cell_type": "code",
   "execution_count": 1,
   "metadata": {},
   "outputs": [
    {
     "name": "stderr",
     "output_type": "stream",
     "text": [
      "Processing lines: 100%|██████████| 254090/254090 [00:34<00:00, 7363.32it/s]\n"
     ]
    },
    {
     "name": "stdout",
     "output_type": "stream",
     "text": [
      "Output saved to ..\\dataset\\output.csv\n"
     ]
    }
   ],
   "source": [
    "import pandas as pd\n",
    "import random\n",
    "from tqdm import tqdm\n",
    "\n",
    "def flatten_sentence(sentence):\n",
    "    vietnamese_to_ascii = {\n",
    "        'đ': 'd', 'Đ': 'D',\n",
    "        'á': 'a', 'à': 'a', 'ả': 'a', 'ã': 'a', 'ạ': 'a',\n",
    "        'ă': 'a', 'ắ': 'a', 'ằ': 'a', 'ẳ': 'a', 'ẵ': 'a', 'ặ': 'a',\n",
    "        'â': 'a', 'ấ': 'a', 'ầ': 'a', 'ẩ': 'a', 'ẫ': 'a', 'ậ': 'a',\n",
    "        'é': 'e', 'è': 'e', 'ẻ': 'e', 'ẽ': 'e', 'ẹ': 'e',\n",
    "        'ê': 'e', 'ế': 'e', 'ề': 'e', 'ể': 'e', 'ễ': 'e', 'ệ': 'e',\n",
    "        'í': 'i', 'ì': 'i', 'ỉ': 'i', 'ĩ': 'i', 'ị': 'i',\n",
    "        'ó': 'o', 'ò': 'o', 'ỏ': 'o', 'õ': 'o', 'ọ': 'o',\n",
    "        'ô': 'o', 'ố': 'o', 'ồ': 'o', 'ổ': 'o', 'ỗ': 'o', 'ộ': 'o',\n",
    "        'ơ': 'o', 'ớ': 'o', 'ờ': 'o', 'ở': 'o', 'ỡ': 'o', 'ợ': 'o',\n",
    "        'ú': 'u', 'ù': 'u', 'ủ': 'u', 'ũ': 'u', 'ụ': 'u',\n",
    "        'ư': 'u', 'ứ': 'u', 'ừ': 'u', 'ử': 'u', 'ữ': 'u', 'ự': 'u',\n",
    "        'ý': 'y', 'ỳ': 'y', 'ỷ': 'y', 'ỹ': 'y', 'ỵ': 'y',\n",
    "    }\n",
    "    sentence = sentence.replace(\" \", \"\")\n",
    "    return ''.join(vietnamese_to_ascii.get(char, char) for char in sentence)\n",
    "\n",
    "def repeat_characters(sentence):\n",
    "    return ''.join(char * random.randint(3, 6) if char.isalpha() else char for char in sentence)\n",
    "\n",
    "def add_random_noise(sentence):\n",
    "    num_noise_chars = max(1, int(len(sentence) * random.uniform(0.05, 0.1)))\n",
    "    noise_chars = ''.join(random.choices(\"abcdefghijklmnopqrstuvwxyz\", k=num_noise_chars))\n",
    "    noisy_sentence = list(sentence)\n",
    "    for noise_char in noise_chars:\n",
    "        insert_position = random.randint(0, len(noisy_sentence))\n",
    "        noisy_sentence.insert(insert_position, noise_char)\n",
    "    return ''.join(noisy_sentence)\n",
    "\n",
    "def create_noise(sentence, variations=5):\n",
    "    noisy_variations = []\n",
    "    flattened_sentence = flatten_sentence(sentence)\n",
    "    for _ in range(variations):\n",
    "        repeated_sentence = repeat_characters(flattened_sentence)\n",
    "        noisy_sentence = add_random_noise(repeated_sentence)\n",
    "        noisy_variations.append(noisy_sentence)\n",
    "    return noisy_variations\n",
    "\n",
    "# Đọc file input\n",
    "input_file = r'..\\dataset\\vi_sents.txt'  # Đường dẫn file\n",
    "with open(input_file, 'r', encoding='utf-8') as file:\n",
    "    lines = [line.strip() for line in file.readlines()]\n",
    "\n",
    "# Tạo nhiễu cho từng dòng với tqdm\n",
    "data = []\n",
    "for line in tqdm(lines, desc=\"Processing lines\"):\n",
    "    noisy_lines = create_noise(line)\n",
    "    for noisy_line in noisy_lines:\n",
    "        data.append({'Original': line, 'Noisy': noisy_line})\n",
    "\n",
    "# Lưu vào file CSV\n",
    "output_file = '..\\dataset\\output.csv'\n",
    "df = pd.DataFrame(data)\n",
    "df.to_csv(output_file, index=False, encoding='utf-8')\n",
    "\n",
    "print(f\"Output saved to {output_file}\")\n"
   ]
  }
 ],
 "metadata": {
  "kernelspec": {
   "display_name": "Python 3",
   "language": "python",
   "name": "python3"
  },
  "language_info": {
   "codemirror_mode": {
    "name": "ipython",
    "version": 3
   },
   "file_extension": ".py",
   "mimetype": "text/x-python",
   "name": "python",
   "nbconvert_exporter": "python",
   "pygments_lexer": "ipython3",
   "version": "3.11.7"
  }
 },
 "nbformat": 4,
 "nbformat_minor": 2
}

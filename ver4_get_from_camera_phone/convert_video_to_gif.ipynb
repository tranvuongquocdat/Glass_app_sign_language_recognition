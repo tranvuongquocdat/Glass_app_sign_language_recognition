{
 "cells": [
  {
   "cell_type": "code",
   "execution_count": 1,
   "metadata": {},
   "outputs": [
    {
     "name": "stderr",
     "output_type": "stream",
     "text": [
      "Processing videos: 100%|██████████| 5/5 [00:39<00:00,  7.89s/video]"
     ]
    },
    {
     "name": "stdout",
     "output_type": "stream",
     "text": [
      "All videos have been processed and saved to 'output_gifs'.\n"
     ]
    },
    {
     "name": "stderr",
     "output_type": "stream",
     "text": [
      "\n"
     ]
    }
   ],
   "source": [
    "import os\n",
    "import cv2\n",
    "import threading\n",
    "import concurrent.futures\n",
    "from PIL import Image\n",
    "from tqdm import tqdm\n",
    "\n",
    "def video_to_gif(video_path, output_folder):\n",
    "    # Đọc video bằng OpenCV\n",
    "    cap = cv2.VideoCapture(video_path)\n",
    "    frames = []\n",
    "    fps = int(cap.get(cv2.CAP_PROP_FPS))\n",
    "\n",
    "    while True:\n",
    "        ret, frame = cap.read()\n",
    "        if not ret:\n",
    "            break\n",
    "        # Resize frame về 512x512\n",
    "        frame = cv2.resize(frame, (512, 512))\n",
    "        # Chuyển frame từ BGR sang RGB để phù hợp với PIL\n",
    "        frame = cv2.cvtColor(frame, cv2.COLOR_BGR2RGB)\n",
    "        frames.append(Image.fromarray(frame))\n",
    "\n",
    "    cap.release()\n",
    "\n",
    "    # Lưu GIF bằng PIL\n",
    "    if frames:\n",
    "        output_path = os.path.join(output_folder, os.path.splitext(os.path.basename(video_path))[0] + \".gif\")\n",
    "        frames[0].save(output_path, save_all=True, append_images=frames[1:], duration=int(1000 / fps), loop=0)\n",
    "\n",
    "def process_folder(input_folder, output_folder):\n",
    "    if not os.path.exists(output_folder):\n",
    "        os.makedirs(output_folder)\n",
    "\n",
    "    video_files = [f for f in os.listdir(input_folder) if f.endswith('.mp4')]\n",
    "    progress = tqdm(total=len(video_files), desc=\"Processing videos\", unit=\"video\")\n",
    "\n",
    "    def process_video(video_file):\n",
    "        video_path = os.path.join(input_folder, video_file)\n",
    "        video_to_gif(video_path, output_folder)\n",
    "        progress.update(1)\n",
    "\n",
    "    with concurrent.futures.ThreadPoolExecutor() as executor:\n",
    "        executor.map(process_video, video_files)\n",
    "\n",
    "    progress.close()\n",
    "\n",
    "if __name__ == \"__main__\":\n",
    "    input_folder = \"Thủ ngữ tiếng Anh\"  # Đường dẫn tới thư mục chứa video\n",
    "    output_folder = \"output_gifs\"  # Đường dẫn lưu file GIF\n",
    "\n",
    "    if not os.path.exists(input_folder):\n",
    "        print(f\"Input folder '{input_folder}' does not exist.\")\n",
    "    else:\n",
    "        process_folder(input_folder, output_folder)\n",
    "        print(f\"All videos have been processed and saved to '{output_folder}'.\")\n"
   ]
  }
 ],
 "metadata": {
  "kernelspec": {
   "display_name": "Python 3",
   "language": "python",
   "name": "python3"
  },
  "language_info": {
   "codemirror_mode": {
    "name": "ipython",
    "version": 3
   },
   "file_extension": ".py",
   "mimetype": "text/x-python",
   "name": "python",
   "nbconvert_exporter": "python",
   "pygments_lexer": "ipython3",
   "version": "3.11.7"
  }
 },
 "nbformat": 4,
 "nbformat_minor": 2
}
